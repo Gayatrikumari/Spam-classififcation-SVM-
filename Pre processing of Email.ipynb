{
 "cells": [
  {
   "cell_type": "code",
   "execution_count": 1,
   "id": "a966564a",
   "metadata": {},
   "outputs": [
    {
     "data": {
      "text/plain": [
       "\"> Anyone knows how much it costs to host a web portal ?\\n>\\nWell, it depends on how many visitors you're expecting.\\nThis can be anywhere from less than 10 bucks a month to a couple of $100. \\nYou should checkout http://www.rackspace.com/ or perhaps Amazon EC2 \\nif youre running something big..\\n\\nTo unsubscribe yourself from this mailing list, send an email to:\\ngroupname-unsubscribe@egroups.com\\n\\n\""
      ]
     },
     "execution_count": 1,
     "metadata": {},
     "output_type": "execute_result"
    }
   ],
   "source": [
    "import re\n",
    "\n",
    "file_contents = open(\"emailSample1.txt\",\"r\").read()\n",
    "file_contents"
   ]
  },
  {
   "cell_type": "code",
   "execution_count": 2,
   "id": "706b859b",
   "metadata": {},
   "outputs": [
    {
     "data": {
      "text/plain": [
       "\"> anyone knows how much it costs to host a web portal ?\\n>\\nwell, it depends on how many visitors you're expecting.\\nthis can be anywhere from less than 10 bucks a month to a couple of $100. \\nyou should checkout http://www.rackspace.com/ or perhaps amazon ec2 \\nif youre running something big..\\n\\nto unsubscribe yourself from this mailing list, send an email to:\\ngroupname-unsubscribe@egroups.com\\n\\n\""
      ]
     },
     "execution_count": 2,
     "metadata": {},
     "output_type": "execute_result"
    }
   ],
   "source": [
    "#Lower-casing:-\n",
    "#The entire email is converted into lower case, so that captialization is ignored. (e.g., IndIcaTE is treated same as Indicate)\n",
    "\n",
    "file_contents = file_contents.lower()\n",
    "file_contents"
   ]
  },
  {
   "cell_type": "code",
   "execution_count": 3,
   "id": "6f3328e8",
   "metadata": {},
   "outputs": [
    {
     "data": {
      "text/plain": [
       "['10', '100', '2']"
      ]
     },
     "execution_count": 3,
     "metadata": {},
     "output_type": "execute_result"
    }
   ],
   "source": [
    "#Handling Numbers:-\n",
    "#We hardcode all numbers to \"number\" in the text.\n",
    "\n",
    "re.findall(\"[\\d]+\",file_contents)"
   ]
  },
  {
   "cell_type": "code",
   "execution_count": 4,
   "id": "148f7167",
   "metadata": {},
   "outputs": [
    {
     "data": {
      "text/plain": [
       "\"> anyone knows how much it costs to host a web portal ?\\n>\\nwell, it depends on how many visitors you're expecting.\\nthis can be anywhere from less than number bucks a month to a couple of $number. \\nyou should checkout http://www.rackspace.com/ or perhaps amazon ecnumber \\nif youre running something big..\\n\\nto unsubscribe yourself from this mailing list, send an email to:\\ngroupname-unsubscribe@egroups.com\\n\\n\""
      ]
     },
     "execution_count": 4,
     "metadata": {},
     "output_type": "execute_result"
    }
   ],
   "source": [
    "file_contents = re.sub(\"[\\d]+\",\"number\",file_contents)\n",
    "file_contents"
   ]
  },
  {
   "cell_type": "code",
   "execution_count": 5,
   "id": "f5ef4c1a",
   "metadata": {},
   "outputs": [
    {
     "data": {
      "text/plain": [
       "['https://google.com', 'http://www.baidu.com']"
      ]
     },
     "execution_count": 5,
     "metadata": {},
     "output_type": "execute_result"
    }
   ],
   "source": [
    "#Handling URLs:-\n",
    "#We hardcode all URLs to \"httpaddr\" in the text\n",
    "\n",
    "dt = 'I refer to https://google.com and I never refer http://www.baidu.com if I have to search anything'\n",
    "re.findall(\"https?://[^\\s]+\",dt)"
   ]
  },
  {
   "cell_type": "code",
   "execution_count": 6,
   "id": "7085b4ea",
   "metadata": {},
   "outputs": [
    {
     "data": {
      "text/plain": [
       "['http://www.rackspace.com/']"
      ]
     },
     "execution_count": 6,
     "metadata": {},
     "output_type": "execute_result"
    }
   ],
   "source": [
    "re.findall(\"https?://[^\\s]+\",file_contents)"
   ]
  },
  {
   "cell_type": "code",
   "execution_count": 7,
   "id": "1dd986b5",
   "metadata": {},
   "outputs": [
    {
     "data": {
      "text/plain": [
       "\"> anyone knows how much it costs to host a web portal ?\\n>\\nwell, it depends on how many visitors you're expecting.\\nthis can be anywhere from less than number bucks a month to a couple of $number. \\nyou should checkout httpaddr or perhaps amazon ecnumber \\nif youre running something big..\\n\\nto unsubscribe yourself from this mailing list, send an email to:\\ngroupname-unsubscribe@egroups.com\\n\\n\""
      ]
     },
     "execution_count": 7,
     "metadata": {},
     "output_type": "execute_result"
    }
   ],
   "source": [
    "file_contents = re.sub(\"https?://[^\\s]+\",\"httpaddr\",file_contents)\n",
    "file_contents"
   ]
  },
  {
   "cell_type": "code",
   "execution_count": 8,
   "id": "8d38f7c0",
   "metadata": {},
   "outputs": [
    {
     "data": {
      "text/plain": [
       "['groupname-unsubscribe@egroups.com']"
      ]
     },
     "execution_count": 8,
     "metadata": {},
     "output_type": "execute_result"
    }
   ],
   "source": [
    "#Handling EmailAddress:-\n",
    "#We hardcode all emailaddress to \"emailaddr\" the text\n",
    "\n",
    "re.findall(\"[^\\s]+@[^\\s]+\",file_contents)"
   ]
  },
  {
   "cell_type": "code",
   "execution_count": 9,
   "id": "e2131a27",
   "metadata": {},
   "outputs": [
    {
     "data": {
      "text/plain": [
       "\"> anyone knows how much it costs to host a web portal ?\\n>\\nwell, it depends on how many visitors you're expecting.\\nthis can be anywhere from less than number bucks a month to a couple of $number. \\nyou should checkout httpaddr or perhaps amazon ecnumber \\nif youre running something big..\\n\\nto unsubscribe yourself from this mailing list, send an email to:\\nemailaddr\\n\\n\""
      ]
     },
     "execution_count": 9,
     "metadata": {},
     "output_type": "execute_result"
    }
   ],
   "source": [
    "file_contents = re.sub(\"[^\\s]+@[^\\s]+\",\"emailaddr\",file_contents)\n",
    "file_contents"
   ]
  },
  {
   "cell_type": "code",
   "execution_count": 10,
   "id": "fa69a345",
   "metadata": {},
   "outputs": [
    {
     "data": {
      "text/plain": [
       "['>', '?', '>', ',', \"'\", '.', '$', '.', '..', ',', ':']"
      ]
     },
     "execution_count": 10,
     "metadata": {},
     "output_type": "execute_result"
    }
   ],
   "source": [
    "#Handling all special characters\n",
    "#We will remove all special characters from the text\n",
    "\n",
    "re.findall(\"[^A-Za-z0-9\\s]+\",file_contents)"
   ]
  },
  {
   "cell_type": "code",
   "execution_count": 11,
   "id": "3b6dcc7e",
   "metadata": {},
   "outputs": [
    {
     "data": {
      "text/plain": [
       "' anyone knows how much it costs to host a web portal \\n\\nwell it depends on how many visitors youre expecting\\nthis can be anywhere from less than number bucks a month to a couple of number \\nyou should checkout httpaddr or perhaps amazon ecnumber \\nif youre running something big\\n\\nto unsubscribe yourself from this mailing list send an email to\\nemailaddr\\n\\n'"
      ]
     },
     "execution_count": 11,
     "metadata": {},
     "output_type": "execute_result"
    }
   ],
   "source": [
    "file_contents = re.sub(\"[^A-Za-z0-9\\s]+\",\"\",file_contents)\n",
    "file_contents"
   ]
  },
  {
   "cell_type": "code",
   "execution_count": 13,
   "id": "58096538",
   "metadata": {},
   "outputs": [
    {
     "data": {
      "text/plain": [
       "' anyone knows how much it costs to host a web portal well it depends on how many visitors youre expecting\\nthis can be anywhere from less than number bucks a month to a couple of number \\nyou should checkout httpaddr or perhaps amazon ecnumber \\nif youre running something bigto unsubscribe yourself from this mailing list send an email to\\nemailaddr'"
      ]
     },
     "execution_count": 13,
     "metadata": {},
     "output_type": "execute_result"
    }
   ],
   "source": [
    "#Remove \\n from the text\n",
    "re.findall(\"\\n{2,2}\",file_contents)\n",
    "file_contents = re.sub(\"\\n{2,2}\",\"\",file_contents)\n",
    "file_contents"
   ]
  },
  {
   "cell_type": "code",
   "execution_count": 14,
   "id": "5d35543e",
   "metadata": {},
   "outputs": [
    {
     "data": {
      "text/plain": [
       "' anyone knows how much it costs to host a web portal well it depends on how many visitors youre expecting\\nthis can be anywhere from less than number bucks a month to a couple of number you should checkout httpaddr or perhaps amazon ecnumber if youre running something bigto unsubscribe yourself from this mailing list send an email to\\nemailaddr'"
      ]
     },
     "execution_count": 14,
     "metadata": {},
     "output_type": "execute_result"
    }
   ],
   "source": [
    "re.findall(\"\\s\\n\",file_contents)\n",
    "file_contents = re.sub(\"\\s\\n\",\" \",file_contents)\n",
    "file_contents"
   ]
  },
  {
   "cell_type": "code",
   "execution_count": 15,
   "id": "50bd95d9",
   "metadata": {},
   "outputs": [
    {
     "data": {
      "text/plain": [
       "' anyone knows how much it costs to host a web portal well it depends on how many visitors youre expecting this can be anywhere from less than number bucks a month to a couple of number you should checkout httpaddr or perhaps amazon ecnumber if youre running something bigto unsubscribe yourself from this mailing list send an email to emailaddr'"
      ]
     },
     "execution_count": 15,
     "metadata": {},
     "output_type": "execute_result"
    }
   ],
   "source": [
    "file_contents = re.sub(\"\\n\",\" \",file_contents)\n",
    "file_contents"
   ]
  },
  {
   "cell_type": "code",
   "execution_count": 16,
   "id": "a4377bfe",
   "metadata": {},
   "outputs": [
    {
     "data": {
      "text/plain": [
       "[' ']"
      ]
     },
     "execution_count": 16,
     "metadata": {},
     "output_type": "execute_result"
    }
   ],
   "source": [
    "#Remove text starting with space\n",
    "re.findall(\"^\\s\",file_contents)"
   ]
  },
  {
   "cell_type": "code",
   "execution_count": 17,
   "id": "66a603b2",
   "metadata": {},
   "outputs": [
    {
     "data": {
      "text/plain": [
       "['B', 'C']"
      ]
     },
     "execution_count": 17,
     "metadata": {},
     "output_type": "execute_result"
    }
   ],
   "source": [
    "file_contents = re.sub(\"^\\s\",\"\",file_contents)\n",
    "dt = 'ABC'\n",
    "\n",
    "re.findall(\"[^A]\",dt) ## that does not contain A in the text (dt)"
   ]
  },
  {
   "cell_type": "code",
   "execution_count": 18,
   "id": "937c1647",
   "metadata": {},
   "outputs": [
    {
     "data": {
      "text/plain": [
       "['A']"
      ]
     },
     "execution_count": 18,
     "metadata": {},
     "output_type": "execute_result"
    }
   ],
   "source": [
    "re.findall(\"^A\",dt) ## the text should start with A"
   ]
  },
  {
   "cell_type": "code",
   "execution_count": 19,
   "id": "3f25fc43",
   "metadata": {},
   "outputs": [
    {
     "data": {
      "text/plain": [
       "'anyone knows how much it costs to host a web portal well it depends on how many visitors youre expecting this can be anywhere from less than number bucks a month to a couple of number you should checkout httpaddr or perhaps amazon ecnumber if youre running something bigto unsubscribe yourself from this mailing list send an email to emailaddr'"
      ]
     },
     "execution_count": 19,
     "metadata": {},
     "output_type": "execute_result"
    }
   ],
   "source": [
    "#Cleaned Email text\n",
    "file_contents"
   ]
  }
 ],
 "metadata": {
  "kernelspec": {
   "display_name": "Python 3",
   "language": "python",
   "name": "python3"
  },
  "language_info": {
   "codemirror_mode": {
    "name": "ipython",
    "version": 3
   },
   "file_extension": ".py",
   "mimetype": "text/x-python",
   "name": "python",
   "nbconvert_exporter": "python",
   "pygments_lexer": "ipython3",
   "version": "3.8.8"
  }
 },
 "nbformat": 4,
 "nbformat_minor": 5
}
